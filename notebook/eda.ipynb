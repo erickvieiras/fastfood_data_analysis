{
 "cells": [
  {
   "attachments": {},
   "cell_type": "markdown",
   "metadata": {},
   "source": [
    "# 1.0 - IMPORTS"
   ]
  },
  {
   "attachments": {},
   "cell_type": "markdown",
   "metadata": {},
   "source": [
    "## 1.1 - LIBRARIES"
   ]
  },
  {
   "cell_type": "code",
   "execution_count": 31,
   "metadata": {},
   "outputs": [],
   "source": [
    "import pandas as pd\n",
    "import numpy as np\n",
    "import seaborn as sns\n",
    "import inflection\n",
    "import matplotlib.pyplot as plt"
   ]
  },
  {
   "attachments": {},
   "cell_type": "markdown",
   "metadata": {},
   "source": [
    "## 1.2 - LOAD DATA"
   ]
  },
  {
   "cell_type": "code",
   "execution_count": 32,
   "metadata": {},
   "outputs": [],
   "source": [
    "df_raw = pd.read_csv('../dataset/zomato.csv', low_memory=False, encoding='ISO-8859-1')"
   ]
  },
  {
   "attachments": {},
   "cell_type": "markdown",
   "metadata": {},
   "source": [
    "## 1.3 - HELPER FUNCTIONS"
   ]
  },
  {
   "attachments": {},
   "cell_type": "markdown",
   "metadata": {},
   "source": [
    "### 1.3.1 - RENAME COLUMNS FUNCTION"
   ]
  },
  {
   "cell_type": "code",
   "execution_count": 33,
   "metadata": {},
   "outputs": [],
   "source": [
    "def rename_columns(column_name):\n",
    "    words = column_name.split()\n",
    "    return '_'.join(words).lower()"
   ]
  },
  {
   "attachments": {},
   "cell_type": "markdown",
   "metadata": {},
   "source": [
    "### 1.3.2 - NA VOLUMETRY"
   ]
  },
  {
   "cell_type": "code",
   "execution_count": 34,
   "metadata": {},
   "outputs": [],
   "source": [
    "def na_volumetry(df):\n",
    "\n",
    "    df_na = pd.DataFrame()\n",
    "    df_na['attributes'] = df.columns\n",
    "    df_na['quantity'] = ''\n",
    "    df_na['percentual'] = ''\n",
    "\n",
    "    for i in df_na.index:\n",
    "        df_na.quantity[i]    = df[df_na['attributes'][i]].isna().sum()\n",
    "        df_na.percentual[i]  = (df[df_na['attributes'][i]].isna().sum()/df['restaurant_id'].count())*100\n",
    "    \n",
    "    return df_na"
   ]
  },
  {
   "attachments": {},
   "cell_type": "markdown",
   "metadata": {},
   "source": [
    "### 1.3.3 - OUTLIERS VOLUMETRY"
   ]
  },
  {
   "cell_type": "code",
   "execution_count": 35,
   "metadata": {},
   "outputs": [],
   "source": [
    "# Creating the subplots for the dashbord of the boxplot\n",
    "def outliers_volumetry(df):\n",
    "    \n",
    "    df_num = pd.DataFrame()\n",
    "    df_num = df.select_dtypes(exclude = 'object')\n",
    "    outlier = []\n",
    "\n",
    "    for i in df_num.columns:\n",
    "        q1 = np.quantile(df_num[i], 0.25)\n",
    "        q3 = np.quantile(df_num[i], 0.75)\n",
    "        interquartile_distance = q3 - q1\n",
    "        upper_limit = q3 + 1.5 * interquartile_distance\n",
    "        lower_limit = q1 - 1.5 * interquartile_distance\n",
    "        outliers = 0\n",
    "        for j in df_num.index:\n",
    "            if df_num[i][j] > upper_limit:\n",
    "                outliers = outliers + 1\n",
    "            elif df_num[i][j] < lower_limit:\n",
    "                outliers = outliers + 1\n",
    "            else:\n",
    "                pass\n",
    "\n",
    "        outlier.append(outliers)\n",
    "\n",
    "    df_outlier = pd.DataFrame()\n",
    "    df_outlier['attributes']    = df_num.columns\n",
    "    df_outlier['quantity']      =   outlier\n",
    "    df_outlier['percentual']    =   (outlier/df_num['restaurant_id'].count())*100\n",
    "\n",
    "    return df_outlier \n",
    "\n",
    "\n",
    "def boxplot_volumetry(df):\n",
    "\n",
    "    df_numerical = df.select_dtypes(exclude = 'object')\n",
    "    plt.figure(figsize=(15, 12))\n",
    "    plt.subplots_adjust(hspace=0.5)\n",
    "    plt.suptitle(\"Volumetry of Outliers\", fontsize=18)\n",
    "\n",
    "    # loop through the length of pointer and keep track of index\n",
    "    for n, pointer in enumerate(df_numerical.columns):\n",
    "        \n",
    "        # add a new subplot iteratively\n",
    "        ax = plt.subplot(5, 3, n + 1)\n",
    "\n",
    "        # create a boxplot for the pointer on the new subplot axis\n",
    "        df_numerical[pointer].plot(kind='box', ax=ax)\n",
    "\n",
    "        # chart formatting\n",
    "        ax.set_title(pointer.upper())\n",
    "        ax.set_xlabel(\"\")\n",
    "\n",
    "    return plt.show()"
   ]
  },
  {
   "attachments": {},
   "cell_type": "markdown",
   "metadata": {},
   "source": [
    "### 1.3.4 - PLOT DIMENSIONS"
   ]
  },
  {
   "cell_type": "code",
   "execution_count": 36,
   "metadata": {},
   "outputs": [],
   "source": [
    "sns.set(rc = {'figure.figsize':(13,5)})"
   ]
  },
  {
   "attachments": {},
   "cell_type": "markdown",
   "metadata": {},
   "source": [
    "# 2.0 - DATA CLEANING"
   ]
  },
  {
   "cell_type": "code",
   "execution_count": 37,
   "metadata": {},
   "outputs": [],
   "source": [
    "#Making a copy of the dataframe\n",
    "df2 = df_raw.copy()"
   ]
  },
  {
   "attachments": {},
   "cell_type": "markdown",
   "metadata": {},
   "source": [
    "## 2.1 - DATA DIMENSION"
   ]
  },
  {
   "cell_type": "code",
   "execution_count": 38,
   "metadata": {},
   "outputs": [
    {
     "name": "stdout",
     "output_type": "stream",
     "text": [
      "The Dataset have 21 columns and 9551 rows\n",
      "\n",
      "Amount of unique data for data feature:\n",
      "\n",
      "Restaurant ID           9551\n",
      "Restaurant Name         7446\n",
      "Country Code              15\n",
      "City                     141\n",
      "Address                 8918\n",
      "Locality                1208\n",
      "Locality Verbose        1265\n",
      "Longitude               8120\n",
      "Latitude                8677\n",
      "Cuisines                1825\n",
      "Average Cost for two     140\n",
      "Currency                  12\n",
      "Has Table booking          2\n",
      "Has Online delivery        2\n",
      "Is delivering now          2\n",
      "Switch to order menu       1\n",
      "Price range                4\n",
      "Aggregate rating          33\n",
      "Rating color               6\n",
      "Rating text                6\n",
      "Votes                   1012\n",
      "dtype: int64\n"
     ]
    }
   ],
   "source": [
    "#Varying the dataframe dimensions and the amount of unique data for each feature\n",
    "unique_data = df2.apply(lambda x: x.nunique())\n",
    "rows = df2.shape[0]\n",
    "cols = df2.shape[1]\n",
    "print('The Dataset have {} columns and {} rows'.format(cols, rows))\n",
    "print('\\nAmount of unique data for data feature:\\n\\n{}'.format(unique_data))"
   ]
  },
  {
   "attachments": {},
   "cell_type": "markdown",
   "metadata": {},
   "source": [
    "## 2.2 - RENAME COLUMNS"
   ]
  },
  {
   "cell_type": "code",
   "execution_count": 39,
   "metadata": {},
   "outputs": [
    {
     "data": {
      "text/plain": [
       "Index(['restaurant_id', 'restaurant_name', 'country_code', 'city', 'address',\n",
       "       'locality', 'locality_verbose', 'longitude', 'latitude', 'cuisines',\n",
       "       'average_cost_for_two', 'currency', 'has_table_booking',\n",
       "       'has_online_delivery', 'is_delivering_now', 'switch_to_order_menu',\n",
       "       'price_range', 'aggregate_rating', 'rating_color', 'rating_text',\n",
       "       'votes'],\n",
       "      dtype='object')"
      ]
     },
     "execution_count": 39,
     "metadata": {},
     "output_type": "execute_result"
    }
   ],
   "source": [
    "#Applying snake case pattern to columns through a function determined in subsession 1.3.1\n",
    "df2.columns = [rename_columns(columns) for columns in df2.columns]\n",
    "df2.columns\n"
   ]
  },
  {
   "attachments": {},
   "cell_type": "markdown",
   "metadata": {},
   "source": [
    "## 2.3 - DATA TYPES"
   ]
  },
  {
   "cell_type": "code",
   "execution_count": 40,
   "metadata": {},
   "outputs": [
    {
     "data": {
      "text/plain": [
       "restaurant_id             int64\n",
       "restaurant_name          object\n",
       "country_code              int64\n",
       "city                     object\n",
       "address                  object\n",
       "locality                 object\n",
       "locality_verbose         object\n",
       "longitude               float64\n",
       "latitude                float64\n",
       "cuisines                 object\n",
       "average_cost_for_two      int64\n",
       "currency                 object\n",
       "has_table_booking        object\n",
       "has_online_delivery      object\n",
       "is_delivering_now        object\n",
       "switch_to_order_menu     object\n",
       "price_range               int64\n",
       "aggregate_rating        float64\n",
       "rating_color             object\n",
       "rating_text              object\n",
       "votes                     int64\n",
       "dtype: object"
      ]
     },
     "execution_count": 40,
     "metadata": {},
     "output_type": "execute_result"
    }
   ],
   "source": [
    "#Checking if the variable types are correct\n",
    "df2.dtypes"
   ]
  },
  {
   "attachments": {},
   "cell_type": "markdown",
   "metadata": {},
   "source": [
    "## 2.4 - NA VOLUMETRY"
   ]
  },
  {
   "cell_type": "code",
   "execution_count": 41,
   "metadata": {},
   "outputs": [
    {
     "data": {
      "text/plain": [
       "restaurant_id           0\n",
       "restaurant_name         0\n",
       "country_code            0\n",
       "city                    0\n",
       "address                 0\n",
       "locality                0\n",
       "locality_verbose        0\n",
       "longitude               0\n",
       "latitude                0\n",
       "cuisines                9\n",
       "average_cost_for_two    0\n",
       "currency                0\n",
       "has_table_booking       0\n",
       "has_online_delivery     0\n",
       "is_delivering_now       0\n",
       "switch_to_order_menu    0\n",
       "price_range             0\n",
       "aggregate_rating        0\n",
       "rating_color            0\n",
       "rating_text             0\n",
       "votes                   0\n",
       "dtype: int64"
      ]
     },
     "execution_count": 41,
     "metadata": {},
     "output_type": "execute_result"
    }
   ],
   "source": [
    "#Checking the volume of NAN data in the database\n",
    "df2.isna().sum()"
   ]
  },
  {
   "attachments": {},
   "cell_type": "markdown",
   "metadata": {},
   "source": [
    "We will exclude this NA data as it represents less than 0.9% of the base. In addition to being categorical data, it causes inconsistency in the correlation of analyzes carried out subsequently"
   ]
  },
  {
   "cell_type": "code",
   "execution_count": 42,
   "metadata": {},
   "outputs": [
    {
     "data": {
      "text/html": [
       "<div>\n",
       "<style scoped>\n",
       "    .dataframe tbody tr th:only-of-type {\n",
       "        vertical-align: middle;\n",
       "    }\n",
       "\n",
       "    .dataframe tbody tr th {\n",
       "        vertical-align: top;\n",
       "    }\n",
       "\n",
       "    .dataframe thead th {\n",
       "        text-align: right;\n",
       "    }\n",
       "</style>\n",
       "<table border=\"1\" class=\"dataframe\">\n",
       "  <thead>\n",
       "    <tr style=\"text-align: right;\">\n",
       "      <th></th>\n",
       "      <th>attributes</th>\n",
       "      <th>quantity</th>\n",
       "      <th>percentual</th>\n",
       "    </tr>\n",
       "  </thead>\n",
       "  <tbody>\n",
       "    <tr>\n",
       "      <th>0</th>\n",
       "      <td>restaurant_id</td>\n",
       "      <td>0</td>\n",
       "      <td>0.0</td>\n",
       "    </tr>\n",
       "    <tr>\n",
       "      <th>1</th>\n",
       "      <td>restaurant_name</td>\n",
       "      <td>0</td>\n",
       "      <td>0.0</td>\n",
       "    </tr>\n",
       "    <tr>\n",
       "      <th>2</th>\n",
       "      <td>country_code</td>\n",
       "      <td>0</td>\n",
       "      <td>0.0</td>\n",
       "    </tr>\n",
       "    <tr>\n",
       "      <th>3</th>\n",
       "      <td>city</td>\n",
       "      <td>0</td>\n",
       "      <td>0.0</td>\n",
       "    </tr>\n",
       "    <tr>\n",
       "      <th>4</th>\n",
       "      <td>address</td>\n",
       "      <td>0</td>\n",
       "      <td>0.0</td>\n",
       "    </tr>\n",
       "    <tr>\n",
       "      <th>5</th>\n",
       "      <td>locality</td>\n",
       "      <td>0</td>\n",
       "      <td>0.0</td>\n",
       "    </tr>\n",
       "    <tr>\n",
       "      <th>6</th>\n",
       "      <td>locality_verbose</td>\n",
       "      <td>0</td>\n",
       "      <td>0.0</td>\n",
       "    </tr>\n",
       "    <tr>\n",
       "      <th>7</th>\n",
       "      <td>longitude</td>\n",
       "      <td>0</td>\n",
       "      <td>0.0</td>\n",
       "    </tr>\n",
       "    <tr>\n",
       "      <th>8</th>\n",
       "      <td>latitude</td>\n",
       "      <td>0</td>\n",
       "      <td>0.0</td>\n",
       "    </tr>\n",
       "    <tr>\n",
       "      <th>9</th>\n",
       "      <td>cuisines</td>\n",
       "      <td>9</td>\n",
       "      <td>0.094231</td>\n",
       "    </tr>\n",
       "    <tr>\n",
       "      <th>10</th>\n",
       "      <td>average_cost_for_two</td>\n",
       "      <td>0</td>\n",
       "      <td>0.0</td>\n",
       "    </tr>\n",
       "    <tr>\n",
       "      <th>11</th>\n",
       "      <td>currency</td>\n",
       "      <td>0</td>\n",
       "      <td>0.0</td>\n",
       "    </tr>\n",
       "    <tr>\n",
       "      <th>12</th>\n",
       "      <td>has_table_booking</td>\n",
       "      <td>0</td>\n",
       "      <td>0.0</td>\n",
       "    </tr>\n",
       "    <tr>\n",
       "      <th>13</th>\n",
       "      <td>has_online_delivery</td>\n",
       "      <td>0</td>\n",
       "      <td>0.0</td>\n",
       "    </tr>\n",
       "    <tr>\n",
       "      <th>14</th>\n",
       "      <td>is_delivering_now</td>\n",
       "      <td>0</td>\n",
       "      <td>0.0</td>\n",
       "    </tr>\n",
       "    <tr>\n",
       "      <th>15</th>\n",
       "      <td>switch_to_order_menu</td>\n",
       "      <td>0</td>\n",
       "      <td>0.0</td>\n",
       "    </tr>\n",
       "    <tr>\n",
       "      <th>16</th>\n",
       "      <td>price_range</td>\n",
       "      <td>0</td>\n",
       "      <td>0.0</td>\n",
       "    </tr>\n",
       "    <tr>\n",
       "      <th>17</th>\n",
       "      <td>aggregate_rating</td>\n",
       "      <td>0</td>\n",
       "      <td>0.0</td>\n",
       "    </tr>\n",
       "    <tr>\n",
       "      <th>18</th>\n",
       "      <td>rating_color</td>\n",
       "      <td>0</td>\n",
       "      <td>0.0</td>\n",
       "    </tr>\n",
       "    <tr>\n",
       "      <th>19</th>\n",
       "      <td>rating_text</td>\n",
       "      <td>0</td>\n",
       "      <td>0.0</td>\n",
       "    </tr>\n",
       "    <tr>\n",
       "      <th>20</th>\n",
       "      <td>votes</td>\n",
       "      <td>0</td>\n",
       "      <td>0.0</td>\n",
       "    </tr>\n",
       "  </tbody>\n",
       "</table>\n",
       "</div>"
      ],
      "text/plain": [
       "              attributes quantity percentual\n",
       "0          restaurant_id        0        0.0\n",
       "1        restaurant_name        0        0.0\n",
       "2           country_code        0        0.0\n",
       "3                   city        0        0.0\n",
       "4                address        0        0.0\n",
       "5               locality        0        0.0\n",
       "6       locality_verbose        0        0.0\n",
       "7              longitude        0        0.0\n",
       "8               latitude        0        0.0\n",
       "9               cuisines        9   0.094231\n",
       "10  average_cost_for_two        0        0.0\n",
       "11              currency        0        0.0\n",
       "12     has_table_booking        0        0.0\n",
       "13   has_online_delivery        0        0.0\n",
       "14     is_delivering_now        0        0.0\n",
       "15  switch_to_order_menu        0        0.0\n",
       "16           price_range        0        0.0\n",
       "17      aggregate_rating        0        0.0\n",
       "18          rating_color        0        0.0\n",
       "19           rating_text        0        0.0\n",
       "20                 votes        0        0.0"
      ]
     },
     "execution_count": 42,
     "metadata": {},
     "output_type": "execute_result"
    }
   ],
   "source": [
    "#Using the 'na_volumetry' function, checking the total amount of NA and how much this amount represents as a percentage of data\n",
    "na_volumetry(df2)"
   ]
  },
  {
   "cell_type": "code",
   "execution_count": 43,
   "metadata": {},
   "outputs": [],
   "source": [
    "df2 = df2.dropna(subset=['cuisines'])"
   ]
  },
  {
   "attachments": {},
   "cell_type": "markdown",
   "metadata": {},
   "source": [
    "## 2.5 - NULL VOLUMETRY"
   ]
  },
  {
   "cell_type": "code",
   "execution_count": 44,
   "metadata": {},
   "outputs": [
    {
     "data": {
      "text/plain": [
       "restaurant_id           0\n",
       "restaurant_name         0\n",
       "country_code            0\n",
       "city                    0\n",
       "address                 0\n",
       "locality                0\n",
       "locality_verbose        0\n",
       "longitude               0\n",
       "latitude                0\n",
       "cuisines                0\n",
       "average_cost_for_two    0\n",
       "currency                0\n",
       "has_table_booking       0\n",
       "has_online_delivery     0\n",
       "is_delivering_now       0\n",
       "switch_to_order_menu    0\n",
       "price_range             0\n",
       "aggregate_rating        0\n",
       "rating_color            0\n",
       "rating_text             0\n",
       "votes                   0\n",
       "dtype: int64"
      ]
     },
     "execution_count": 44,
     "metadata": {},
     "output_type": "execute_result"
    }
   ],
   "source": [
    "#Checking the volume of NULL data in the database\n",
    "df2.isnull().sum()"
   ]
  },
  {
   "attachments": {},
   "cell_type": "markdown",
   "metadata": {},
   "source": [
    "## 2.6 - DUPLICATED VOLUMETRY"
   ]
  },
  {
   "cell_type": "code",
   "execution_count": 45,
   "metadata": {},
   "outputs": [
    {
     "name": "stdout",
     "output_type": "stream",
     "text": [
      "Empty DataFrame\n",
      "Columns: [restaurant_id, restaurant_name, country_code, city, address, locality, locality_verbose, longitude, latitude, cuisines, average_cost_for_two, currency, has_table_booking, has_online_delivery, is_delivering_now, switch_to_order_menu, price_range, aggregate_rating, rating_color, rating_text, votes]\n",
      "Index: []\n",
      "\n",
      "[0 rows x 21 columns]\n"
     ]
    }
   ],
   "source": [
    "##Checking the volume of Duplicate data in the database\n",
    "duplicated = df2[df2.duplicated()]\n",
    "print(duplicated)"
   ]
  },
  {
   "attachments": {},
   "cell_type": "markdown",
   "metadata": {},
   "source": [
    "## 2.7 - OUTLIERS VOLUMETRY"
   ]
  },
  {
   "cell_type": "code",
   "execution_count": 46,
   "metadata": {},
   "outputs": [
    {
     "data": {
      "text/html": [
       "<div>\n",
       "<style scoped>\n",
       "    .dataframe tbody tr th:only-of-type {\n",
       "        vertical-align: middle;\n",
       "    }\n",
       "\n",
       "    .dataframe tbody tr th {\n",
       "        vertical-align: top;\n",
       "    }\n",
       "\n",
       "    .dataframe thead th {\n",
       "        text-align: right;\n",
       "    }\n",
       "</style>\n",
       "<table border=\"1\" class=\"dataframe\">\n",
       "  <thead>\n",
       "    <tr style=\"text-align: right;\">\n",
       "      <th></th>\n",
       "      <th>attributes</th>\n",
       "      <th>quantity</th>\n",
       "      <th>percentual</th>\n",
       "    </tr>\n",
       "  </thead>\n",
       "  <tbody>\n",
       "    <tr>\n",
       "      <th>0</th>\n",
       "      <td>restaurant_id</td>\n",
       "      <td>0</td>\n",
       "      <td>0.000000</td>\n",
       "    </tr>\n",
       "    <tr>\n",
       "      <th>1</th>\n",
       "      <td>country_code</td>\n",
       "      <td>890</td>\n",
       "      <td>9.327185</td>\n",
       "    </tr>\n",
       "    <tr>\n",
       "      <th>2</th>\n",
       "      <td>longitude</td>\n",
       "      <td>1944</td>\n",
       "      <td>20.373087</td>\n",
       "    </tr>\n",
       "    <tr>\n",
       "      <th>3</th>\n",
       "      <td>latitude</td>\n",
       "      <td>1974</td>\n",
       "      <td>20.687487</td>\n",
       "    </tr>\n",
       "    <tr>\n",
       "      <th>4</th>\n",
       "      <td>average_cost_for_two</td>\n",
       "      <td>853</td>\n",
       "      <td>8.939426</td>\n",
       "    </tr>\n",
       "    <tr>\n",
       "      <th>5</th>\n",
       "      <td>price_range</td>\n",
       "      <td>586</td>\n",
       "      <td>6.141270</td>\n",
       "    </tr>\n",
       "    <tr>\n",
       "      <th>6</th>\n",
       "      <td>aggregate_rating</td>\n",
       "      <td>2148</td>\n",
       "      <td>22.511004</td>\n",
       "    </tr>\n",
       "    <tr>\n",
       "      <th>7</th>\n",
       "      <td>votes</td>\n",
       "      <td>1131</td>\n",
       "      <td>11.852861</td>\n",
       "    </tr>\n",
       "  </tbody>\n",
       "</table>\n",
       "</div>"
      ],
      "text/plain": [
       "             attributes  quantity  percentual\n",
       "0         restaurant_id         0    0.000000\n",
       "1          country_code       890    9.327185\n",
       "2             longitude      1944   20.373087\n",
       "3              latitude      1974   20.687487\n",
       "4  average_cost_for_two       853    8.939426\n",
       "5           price_range       586    6.141270\n",
       "6      aggregate_rating      2148   22.511004\n",
       "7                 votes      1131   11.852861"
      ]
     },
     "execution_count": 46,
     "metadata": {},
     "output_type": "execute_result"
    }
   ],
   "source": [
    "#Using the 'outliers_volumetry' function in subsection 1.3.3, checking the total amount of outliers and how much this amount represents as a percentage of data\n",
    "outliers_volumetry(df2)"
   ]
  },
  {
   "attachments": {},
   "cell_type": "markdown",
   "metadata": {},
   "source": [
    "We will keep the outliers, as in addition to representing a low percentage in the base, contextually they make sense for the feature that represents them."
   ]
  },
  {
   "cell_type": "code",
   "execution_count": 47,
   "metadata": {},
   "outputs": [
    {
     "data": {
      "image/png": "[encoded data removed]",
      "text/plain": [
       "<Figure size 1500x1200 with 8 Axes>"
      ]
     },
     "metadata": {},
     "output_type": "display_data"
    }
   ],
   "source": [
    "#Plotting outliers using a function also contained in subsection 1.3.3\n",
    "boxplot_volumetry(df2)"
   ]
  },
  {
   "attachments": {},
   "cell_type": "markdown",
   "metadata": {},
   "source": [
    "# 3.0 - DESCRIPTIVE STATISTICS"
   ]
  },
  {
   "cell_type": "code",
   "execution_count": 48,
   "metadata": {},
   "outputs": [],
   "source": [
    "df3 = df2.copy()"
   ]
  },
  {
   "cell_type": "code",
   "execution_count": 49,
   "metadata": {},
   "outputs": [
    {
     "data": {
      "text/html": [
       "<div>\n",
       "<style scoped>\n",
       "    .dataframe tbody tr th:only-of-type {\n",
       "        vertical-align: middle;\n",
       "    }\n",
       "\n",
       "    .dataframe tbody tr th {\n",
       "        vertical-align: top;\n",
       "    }\n",
       "\n",
       "    .dataframe thead th {\n",
       "        text-align: right;\n",
       "    }\n",
       "</style>\n",
       "<table border=\"1\" class=\"dataframe\">\n",
       "  <thead>\n",
       "    <tr style=\"text-align: right;\">\n",
       "      <th></th>\n",
       "      <th>attribuites</th>\n",
       "      <th>mean</th>\n",
       "      <th>median</th>\n",
       "      <th>standart deviation</th>\n",
       "      <th>min</th>\n",
       "      <th>max</th>\n",
       "      <th>range</th>\n",
       "      <th>skew</th>\n",
       "      <th>kurtosis</th>\n",
       "    </tr>\n",
       "  </thead>\n",
       "  <tbody>\n",
       "    <tr>\n",
       "      <th>0</th>\n",
       "      <td>restaurant_id</td>\n",
       "      <td>9.043301e+06</td>\n",
       "      <td>6.002726e+06</td>\n",
       "      <td>8.791507e+06</td>\n",
       "      <td>53.000000</td>\n",
       "      <td>1.850065e+07</td>\n",
       "      <td>-1.850060e+07</td>\n",
       "      <td>0.063496</td>\n",
       "      <td>-1.950750</td>\n",
       "    </tr>\n",
       "    <tr>\n",
       "      <th>1</th>\n",
       "      <td>country_code</td>\n",
       "      <td>1.817921e+01</td>\n",
       "      <td>1.000000e+00</td>\n",
       "      <td>5.644864e+01</td>\n",
       "      <td>1.000000</td>\n",
       "      <td>2.160000e+02</td>\n",
       "      <td>-2.150000e+02</td>\n",
       "      <td>3.064922</td>\n",
       "      <td>7.523150</td>\n",
       "    </tr>\n",
       "    <tr>\n",
       "      <th>2</th>\n",
       "      <td>longitude</td>\n",
       "      <td>6.427500e+01</td>\n",
       "      <td>7.719203e+01</td>\n",
       "      <td>4.119544e+01</td>\n",
       "      <td>-157.948486</td>\n",
       "      <td>1.748321e+02</td>\n",
       "      <td>-3.327806e+02</td>\n",
       "      <td>-2.819828</td>\n",
       "      <td>8.330206</td>\n",
       "    </tr>\n",
       "    <tr>\n",
       "      <th>3</th>\n",
       "      <td>latitude</td>\n",
       "      <td>2.584853e+01</td>\n",
       "      <td>2.857044e+01</td>\n",
       "      <td>1.100952e+01</td>\n",
       "      <td>-41.330428</td>\n",
       "      <td>5.597698e+01</td>\n",
       "      <td>-9.730741e+01</td>\n",
       "      <td>-3.081780</td>\n",
       "      <td>12.525761</td>\n",
       "    </tr>\n",
       "    <tr>\n",
       "      <th>4</th>\n",
       "      <td>average_cost_for_two</td>\n",
       "      <td>1.200326e+03</td>\n",
       "      <td>4.000000e+02</td>\n",
       "      <td>1.612790e+04</td>\n",
       "      <td>0.000000</td>\n",
       "      <td>8.000000e+05</td>\n",
       "      <td>-8.000000e+05</td>\n",
       "      <td>35.461264</td>\n",
       "      <td>1494.371209</td>\n",
       "    </tr>\n",
       "    <tr>\n",
       "      <th>5</th>\n",
       "      <td>price_range</td>\n",
       "      <td>1.804968e+00</td>\n",
       "      <td>2.000000e+00</td>\n",
       "      <td>9.055156e-01</td>\n",
       "      <td>1.000000</td>\n",
       "      <td>4.000000e+00</td>\n",
       "      <td>-3.000000e+00</td>\n",
       "      <td>0.889879</td>\n",
       "      <td>-0.141135</td>\n",
       "    </tr>\n",
       "    <tr>\n",
       "      <th>6</th>\n",
       "      <td>aggregate_rating</td>\n",
       "      <td>2.665238e+00</td>\n",
       "      <td>3.200000e+00</td>\n",
       "      <td>1.516508e+00</td>\n",
       "      <td>0.000000</td>\n",
       "      <td>4.900000e+00</td>\n",
       "      <td>-4.900000e+00</td>\n",
       "      <td>-0.953052</td>\n",
       "      <td>-0.584832</td>\n",
       "    </tr>\n",
       "    <tr>\n",
       "      <th>7</th>\n",
       "      <td>votes</td>\n",
       "      <td>1.567721e+02</td>\n",
       "      <td>3.100000e+01</td>\n",
       "      <td>4.301808e+02</td>\n",
       "      <td>0.000000</td>\n",
       "      <td>1.093400e+04</td>\n",
       "      <td>-1.093400e+04</td>\n",
       "      <td>8.813270</td>\n",
       "      <td>128.316022</td>\n",
       "    </tr>\n",
       "  </tbody>\n",
       "</table>\n",
       "</div>"
      ],
      "text/plain": [
       "            attribuites          mean        median  standart deviation  \\\n",
       "0         restaurant_id  9.043301e+06  6.002726e+06        8.791507e+06   \n",
       "1          country_code  1.817921e+01  1.000000e+00        5.644864e+01   \n",
       "2             longitude  6.427500e+01  7.719203e+01        4.119544e+01   \n",
       "3              latitude  2.584853e+01  2.857044e+01        1.100952e+01   \n",
       "4  average_cost_for_two  1.200326e+03  4.000000e+02        1.612790e+04   \n",
       "5           price_range  1.804968e+00  2.000000e+00        9.055156e-01   \n",
       "6      aggregate_rating  2.665238e+00  3.200000e+00        1.516508e+00   \n",
       "7                 votes  1.567721e+02  3.100000e+01        4.301808e+02   \n",
       "\n",
       "          min           max         range       skew     kurtosis  \n",
       "0   53.000000  1.850065e+07 -1.850060e+07   0.063496    -1.950750  \n",
       "1    1.000000  2.160000e+02 -2.150000e+02   3.064922     7.523150  \n",
       "2 -157.948486  1.748321e+02 -3.327806e+02  -2.819828     8.330206  \n",
       "3  -41.330428  5.597698e+01 -9.730741e+01  -3.081780    12.525761  \n",
       "4    0.000000  8.000000e+05 -8.000000e+05  35.461264  1494.371209  \n",
       "5    1.000000  4.000000e+00 -3.000000e+00   0.889879    -0.141135  \n",
       "6    0.000000  4.900000e+00 -4.900000e+00  -0.953052    -0.584832  \n",
       "7    0.000000  1.093400e+04 -1.093400e+04   8.813270   128.316022  "
      ]
     },
     "execution_count": 49,
     "metadata": {},
     "output_type": "execute_result"
    }
   ],
   "source": [
    "df2_num = pd.DataFrame()\n",
    "df2_cat = pd.DataFrame()\n",
    "\n",
    "df2_num = df2.select_dtypes(exclude = 'object')\n",
    "df2_cat = df2.select_dtypes(include = 'object')\n",
    "\n",
    "# Tendence central:\n",
    "# - Mean\n",
    "# - Median\n",
    "\n",
    "central_tendence1 = pd.DataFrame(df2_num.apply(lambda x: np.mean(x))).T\n",
    "central_tendence2 = pd.DataFrame(df2_num.apply(lambda x: np.median(x))).T\n",
    "\n",
    "# Dispersion:\n",
    "# - Max\n",
    "# - Min\n",
    "# - Range\n",
    "# - Standart Deviation\n",
    "# - Skew\n",
    "# - Kurtosis\n",
    "\n",
    "dispersion1 = pd.DataFrame(df2_num.apply(lambda x: np.std(x))).T\n",
    "dispersion2 = pd.DataFrame(df2_num.apply(min)).T\n",
    "dispersion3 = pd.DataFrame(df2_num.apply(max)).T\n",
    "dispersion4 = pd.DataFrame(df2_num.apply(lambda x: x.min() - x.max())).T\n",
    "dispersion5 = pd.DataFrame(df2_num.apply(lambda x: x.skew())).T\n",
    "dispersion6 = pd.DataFrame(df2_num.apply(lambda x: x.kurtosis())).T\n",
    "\n",
    "# Concatenating the dataframes\n",
    "\n",
    "metrics = pd.concat([central_tendence1, central_tendence2, dispersion1, dispersion2, dispersion3, dispersion4, dispersion5, dispersion6]).T.reset_index()\n",
    "metrics.columns = ['attribuites', 'mean', 'median', 'standart deviation', 'min', 'max', 'range', 'skew', 'kurtosis']\n",
    "metrics"
   ]
  },
  {
   "attachments": {},
   "cell_type": "markdown",
   "metadata": {},
   "source": [
    "# 4.0 - FEATURE ENGINEERING"
   ]
  },
  {
   "cell_type": "code",
   "execution_count": 50,
   "metadata": {},
   "outputs": [],
   "source": [
    "#Making a copy of the dataframe\n",
    "df4 = df3.copy()"
   ]
  },
  {
   "cell_type": "code",
   "execution_count": 51,
   "metadata": {},
   "outputs": [],
   "source": [
    "#Creating a new feature to identify the country\n",
    "countries = {1: \"India\", 14: \"Australia\", 30: \"Brazil\", 37: \"Canada\", 94: \"Indonesia\", 148: \"New Zeland\", 162: \"Philippines\",166: \"Qatar\", 184: \"Singapure\", \n",
    "             189: \"South Africa\", 191: \"Sri Lanka\", 208: \"Turkey\", 214: \"United Arab Emirates\", 215: \"England\", 216: \"United States of America\",\n",
    "}\n",
    "\n",
    "df4['countries'] = df4['country_code'].map(countries)\n",
    "df4.drop(columns = ['country_code'], axis = 1, inplace = True)"
   ]
  },
  {
   "cell_type": "code",
   "execution_count": 52,
   "metadata": {},
   "outputs": [],
   "source": [
    "#Creating a new feature to identify the color for grouping on the map using the folium library in subsequent graphical analyzes\n",
    "colors = {\"Dark Green\":\"3F7E00\", \"Green\":\"5BA829\", \"Yellow\":\"CDD614\", \"Orange\":\"FF7800\", \"White\":\"FFFCFA\", \"Red\":\"E6002A\"}\n",
    "df4['color_code'] = df4['rating_color'].map(colors)\n",
    "#df4.drop(columns = ['rating_color'], axis = 1, inplace = True)\n"
   ]
  },
  {
   "cell_type": "code",
   "execution_count": 53,
   "metadata": {},
   "outputs": [],
   "source": [
    "#Deleting some redundant columns that do not add value in the analysis\n",
    "df4.drop(columns = ['locality', 'locality_verbose', 'switch_to_order_menu'], axis = 1, inplace = True)"
   ]
  },
  {
   "cell_type": "code",
   "execution_count": 54,
   "metadata": {},
   "outputs": [],
   "source": [
    "#modifying the 'Price Range' to a categorical variable\n",
    "df4['price_range'] = df4['price_range'].astype(str)\n",
    "df4['price_range'] = df4['price_range'].apply(lambda x: 'cheap' if x == '1' else 'normal' if x == '2' else 'expensive' if x == '3' else 'gourmet')"
   ]
  },
  {
   "cell_type": "code",
   "execution_count": 55,
   "metadata": {},
   "outputs": [],
   "source": [
    "#Renaming the column to improve the context of the data it indicates\n",
    "df4.rename({'is_delivering_now': 'makes_deliveries'}, axis = 1, inplace = True)"
   ]
  },
  {
   "cell_type": "code",
   "execution_count": 56,
   "metadata": {},
   "outputs": [
    {
     "data": {
      "text/plain": [
       "Index(['restaurant_id', 'restaurant_name', 'city', 'address', 'longitude',\n",
       "       'latitude', 'cuisines', 'average_cost_for_two', 'currency',\n",
       "       'has_table_booking', 'has_online_delivery', 'makes_deliveries',\n",
       "       'price_range', 'aggregate_rating', 'rating_color', 'rating_text',\n",
       "       'votes', 'countries', 'color_code'],\n",
       "      dtype='object')"
      ]
     },
     "execution_count": 56,
     "metadata": {},
     "output_type": "execute_result"
    }
   ],
   "source": [
    "df4.columns"
   ]
  },
  {
   "cell_type": "code",
   "execution_count": 57,
   "metadata": {},
   "outputs": [],
   "source": [
    "new_order = ['restaurant_id', 'restaurant_name', 'countries', 'city', 'address', 'longitude',\n",
    "       'latitude', 'cuisines', 'average_cost_for_two', 'currency', 'has_table_booking', 'has_online_delivery', \n",
    "       'makes_deliveries', 'price_range', 'aggregate_rating', 'rating_color', 'rating_text',\n",
    "       'votes', 'color_code']\n",
    "\n",
    "df4 = df4[new_order]"
   ]
  },
  {
   "attachments": {},
   "cell_type": "markdown",
   "metadata": {},
   "source": [
    "# 5.0 - EXPLORATORY DATA ANALYSIS (EDA)"
   ]
  },
  {
   "cell_type": "code",
   "execution_count": 58,
   "metadata": {},
   "outputs": [],
   "source": [
    "#Making a copy of the dataframe\n",
    "df5 = df4.copy()"
   ]
  },
  {
   "cell_type": "code",
   "execution_count": 98,
   "metadata": {},
   "outputs": [
    {
     "data": {
      "text/html": [
       "<div>\n",
       "<style scoped>\n",
       "    .dataframe tbody tr th:only-of-type {\n",
       "        vertical-align: middle;\n",
       "    }\n",
       "\n",
       "    .dataframe tbody tr th {\n",
       "        vertical-align: top;\n",
       "    }\n",
       "\n",
       "    .dataframe thead th {\n",
       "        text-align: right;\n",
       "    }\n",
       "</style>\n",
       "<table border=\"1\" class=\"dataframe\">\n",
       "  <thead>\n",
       "    <tr style=\"text-align: right;\">\n",
       "      <th></th>\n",
       "      <th>7688</th>\n",
       "      <th>6797</th>\n",
       "      <th>8081</th>\n",
       "    </tr>\n",
       "  </thead>\n",
       "  <tbody>\n",
       "    <tr>\n",
       "      <th>restaurant_id</th>\n",
       "      <td>8215</td>\n",
       "      <td>18219526</td>\n",
       "      <td>311698</td>\n",
       "    </tr>\n",
       "    <tr>\n",
       "      <th>restaurant_name</th>\n",
       "      <td>Mandrain</td>\n",
       "      <td>High On Burgers</td>\n",
       "      <td>Green Chick Chop</td>\n",
       "    </tr>\n",
       "    <tr>\n",
       "      <th>countries</th>\n",
       "      <td>India</td>\n",
       "      <td>India</td>\n",
       "      <td>India</td>\n",
       "    </tr>\n",
       "    <tr>\n",
       "      <th>city</th>\n",
       "      <td>New Delhi</td>\n",
       "      <td>New Delhi</td>\n",
       "      <td>Noida</td>\n",
       "    </tr>\n",
       "    <tr>\n",
       "      <th>address</th>\n",
       "      <td>Food Court, V3S Mall, Laxmi Nagar, New Delhi</td>\n",
       "      <td>Shop 1, C-61/2, Arjun Nagar, Safdarjung Enclav...</td>\n",
       "      <td>56, Block I, Ganga Shopping Complex, Sector 29...</td>\n",
       "    </tr>\n",
       "    <tr>\n",
       "      <th>longitude</th>\n",
       "      <td>77.287026</td>\n",
       "      <td>77.199188</td>\n",
       "      <td>77.335583</td>\n",
       "    </tr>\n",
       "    <tr>\n",
       "      <th>latitude</th>\n",
       "      <td>28.636982</td>\n",
       "      <td>28.560579</td>\n",
       "      <td>28.567448</td>\n",
       "    </tr>\n",
       "    <tr>\n",
       "      <th>cuisines</th>\n",
       "      <td>Chinese</td>\n",
       "      <td>Fast Food</td>\n",
       "      <td>Raw Meats, North Indian, Fast Food</td>\n",
       "    </tr>\n",
       "    <tr>\n",
       "      <th>average_cost_for_two</th>\n",
       "      <td>450</td>\n",
       "      <td>300</td>\n",
       "      <td>350</td>\n",
       "    </tr>\n",
       "    <tr>\n",
       "      <th>currency</th>\n",
       "      <td>Indian Rupees(Rs.)</td>\n",
       "      <td>Indian Rupees(Rs.)</td>\n",
       "      <td>Indian Rupees(Rs.)</td>\n",
       "    </tr>\n",
       "    <tr>\n",
       "      <th>has_table_booking</th>\n",
       "      <td>No</td>\n",
       "      <td>No</td>\n",
       "      <td>No</td>\n",
       "    </tr>\n",
       "    <tr>\n",
       "      <th>has_online_delivery</th>\n",
       "      <td>No</td>\n",
       "      <td>Yes</td>\n",
       "      <td>Yes</td>\n",
       "    </tr>\n",
       "    <tr>\n",
       "      <th>makes_deliveries</th>\n",
       "      <td>No</td>\n",
       "      <td>No</td>\n",
       "      <td>No</td>\n",
       "    </tr>\n",
       "    <tr>\n",
       "      <th>price_range</th>\n",
       "      <td>cheap</td>\n",
       "      <td>cheap</td>\n",
       "      <td>cheap</td>\n",
       "    </tr>\n",
       "    <tr>\n",
       "      <th>aggregate_rating</th>\n",
       "      <td>2.8</td>\n",
       "      <td>3.2</td>\n",
       "      <td>2.6</td>\n",
       "    </tr>\n",
       "    <tr>\n",
       "      <th>rating_color</th>\n",
       "      <td>Orange</td>\n",
       "      <td>Orange</td>\n",
       "      <td>Orange</td>\n",
       "    </tr>\n",
       "    <tr>\n",
       "      <th>rating_text</th>\n",
       "      <td>Average</td>\n",
       "      <td>Average</td>\n",
       "      <td>Average</td>\n",
       "    </tr>\n",
       "    <tr>\n",
       "      <th>votes</th>\n",
       "      <td>7</td>\n",
       "      <td>37</td>\n",
       "      <td>12</td>\n",
       "    </tr>\n",
       "    <tr>\n",
       "      <th>color_code</th>\n",
       "      <td>FF7800</td>\n",
       "      <td>FF7800</td>\n",
       "      <td>FF7800</td>\n",
       "    </tr>\n",
       "  </tbody>\n",
       "</table>\n",
       "</div>"
      ],
      "text/plain": [
       "                                                              7688  \\\n",
       "restaurant_id                                                 8215   \n",
       "restaurant_name                                           Mandrain   \n",
       "countries                                                    India   \n",
       "city                                                     New Delhi   \n",
       "address               Food Court, V3S Mall, Laxmi Nagar, New Delhi   \n",
       "longitude                                                77.287026   \n",
       "latitude                                                 28.636982   \n",
       "cuisines                                                   Chinese   \n",
       "average_cost_for_two                                           450   \n",
       "currency                                        Indian Rupees(Rs.)   \n",
       "has_table_booking                                               No   \n",
       "has_online_delivery                                             No   \n",
       "makes_deliveries                                                No   \n",
       "price_range                                                  cheap   \n",
       "aggregate_rating                                               2.8   \n",
       "rating_color                                                Orange   \n",
       "rating_text                                                Average   \n",
       "votes                                                            7   \n",
       "color_code                                                  FF7800   \n",
       "\n",
       "                                                                   6797  \\\n",
       "restaurant_id                                                  18219526   \n",
       "restaurant_name                                         High On Burgers   \n",
       "countries                                                         India   \n",
       "city                                                          New Delhi   \n",
       "address               Shop 1, C-61/2, Arjun Nagar, Safdarjung Enclav...   \n",
       "longitude                                                     77.199188   \n",
       "latitude                                                      28.560579   \n",
       "cuisines                                                      Fast Food   \n",
       "average_cost_for_two                                                300   \n",
       "currency                                             Indian Rupees(Rs.)   \n",
       "has_table_booking                                                    No   \n",
       "has_online_delivery                                                 Yes   \n",
       "makes_deliveries                                                     No   \n",
       "price_range                                                       cheap   \n",
       "aggregate_rating                                                    3.2   \n",
       "rating_color                                                     Orange   \n",
       "rating_text                                                     Average   \n",
       "votes                                                                37   \n",
       "color_code                                                       FF7800   \n",
       "\n",
       "                                                                   8081  \n",
       "restaurant_id                                                    311698  \n",
       "restaurant_name                                        Green Chick Chop  \n",
       "countries                                                         India  \n",
       "city                                                              Noida  \n",
       "address               56, Block I, Ganga Shopping Complex, Sector 29...  \n",
       "longitude                                                     77.335583  \n",
       "latitude                                                      28.567448  \n",
       "cuisines                             Raw Meats, North Indian, Fast Food  \n",
       "average_cost_for_two                                                350  \n",
       "currency                                             Indian Rupees(Rs.)  \n",
       "has_table_booking                                                    No  \n",
       "has_online_delivery                                                 Yes  \n",
       "makes_deliveries                                                     No  \n",
       "price_range                                                       cheap  \n",
       "aggregate_rating                                                    2.6  \n",
       "rating_color                                                     Orange  \n",
       "rating_text                                                     Average  \n",
       "votes                                                                12  \n",
       "color_code                                                       FF7800  "
      ]
     },
     "execution_count": 98,
     "metadata": {},
     "output_type": "execute_result"
    }
   ],
   "source": [
    "df5.sample(3).T"
   ]
  },
  {
   "attachments": {},
   "cell_type": "markdown",
   "metadata": {},
   "source": [
    "## 5.1 - UNIVARIATE ANALYSIS"
   ]
  },
  {
   "attachments": {},
   "cell_type": "markdown",
   "metadata": {},
   "source": [
    "### 5.1.1 - HOW MANY COUNTRIES IN THE BASE"
   ]
  },
  {
   "cell_type": "code",
   "execution_count": 71,
   "metadata": {},
   "outputs": [
    {
     "name": "stdout",
     "output_type": "stream",
     "text": [
      "The current base has 15 countries\n"
     ]
    }
   ],
   "source": [
    "country = df5['countries'].nunique()\n",
    "print('The current base has {} countries'.format(country))"
   ]
  },
  {
   "attachments": {},
   "cell_type": "markdown",
   "metadata": {},
   "source": [
    "### 5.1.2 - HOW MANY CITIES IN THE BASE"
   ]
  },
  {
   "cell_type": "code",
   "execution_count": 73,
   "metadata": {},
   "outputs": [
    {
     "name": "stdout",
     "output_type": "stream",
     "text": [
      "The current base has 140 cities\n"
     ]
    }
   ],
   "source": [
    "cities = df5['city'].nunique()\n",
    "print('The current base has {} cities'.format(cities))"
   ]
  },
  {
   "attachments": {},
   "cell_type": "markdown",
   "metadata": {},
   "source": [
    "### 5.1.3 - HOW MANY RESTAURANTS IN THE BASE"
   ]
  },
  {
   "cell_type": "code",
   "execution_count": 78,
   "metadata": {},
   "outputs": [
    {
     "name": "stdout",
     "output_type": "stream",
     "text": [
      "The current base has 9542 restaurants\n"
     ]
    }
   ],
   "source": [
    "restaurants = df5['restaurant_id'].nunique()\n",
    "print('The current base has {} restaurants'.format(restaurants))"
   ]
  },
  {
   "attachments": {},
   "cell_type": "markdown",
   "metadata": {},
   "source": [
    "### 5.1.4 - HOW MANY CUISINES IN THE BASE"
   ]
  },
  {
   "cell_type": "code",
   "execution_count": 79,
   "metadata": {},
   "outputs": [
    {
     "name": "stdout",
     "output_type": "stream",
     "text": [
      "The current base has 1825 restaurants\n"
     ]
    }
   ],
   "source": [
    "cuisines = df5['cuisines'].nunique()\n",
    "print('The current base has {} restaurants'.format(cuisines))"
   ]
  },
  {
   "attachments": {},
   "cell_type": "markdown",
   "metadata": {},
   "source": [
    "### 5.1.5 - HOW MANY RATINGS IN THE BASE"
   ]
  },
  {
   "cell_type": "code",
   "execution_count": 83,
   "metadata": {},
   "outputs": [
    {
     "name": "stdout",
     "output_type": "stream",
     "text": [
      "The current base has 1495919 Ratings\n"
     ]
    }
   ],
   "source": [
    "votes = df5['votes'].sum()\n",
    "print('The current base has {} Ratings'.format(votes))"
   ]
  },
  {
   "attachments": {},
   "cell_type": "markdown",
   "metadata": {},
   "source": [
    "### 5.1.6 - NUMBER OF ONLINE DELIVERIES"
   ]
  },
  {
   "cell_type": "code",
   "execution_count": 97,
   "metadata": {},
   "outputs": [
    {
     "name": "stdout",
     "output_type": "stream",
     "text": [
      "The total number of online deliveries made is 2451\n"
     ]
    }
   ],
   "source": [
    "delivery_online = df5['has_online_delivery'].loc[df5['has_online_delivery'] == 'Yes'].count()\n",
    "print('The total number of online deliveries made is {}'.format(delivery_online))"
   ]
  },
  {
   "attachments": {},
   "cell_type": "markdown",
   "metadata": {},
   "source": [
    "## 5.2 - BIVARIATE ANALYSIS"
   ]
  },
  {
   "attachments": {},
   "cell_type": "markdown",
   "metadata": {},
   "source": [
    "### 5.2.1 - AVERAGE RATINGS BY EVALUATION CATEGORY"
   ]
  },
  {
   "cell_type": "code",
   "execution_count": 103,
   "metadata": {},
   "outputs": [
    {
     "data": {
      "image/png": "[encoded data removed]",
      "text/plain": [
       "<Figure size 1300x500 with 1 Axes>"
      ]
     },
     "metadata": {},
     "output_type": "display_data"
    }
   ],
   "source": [
    "aux = df5.groupby(['rating_text'])['aggregate_rating'].mean().reset_index().sort_values(['aggregate_rating'], ascending = True)\n",
    "sns.barplot(data = aux, x = 'rating_text', y = 'aggregate_rating')\n",
    "plt.title('AVERAGE RATINGS BY EVALUATION CATEGORY')\n",
    "plt.xlabel('CATEGORY')\n",
    "plt.ylabel('AVARAGE RATING')\n",
    "plt.xticks(rotation = 45)\n",
    "plt.show()"
   ]
  },
  {
   "attachments": {},
   "cell_type": "markdown",
   "metadata": {},
   "source": [
    "### 5.2.2 - AVERAGE RATINGS BY TYPE OF DISH"
   ]
  },
  {
   "cell_type": "code",
   "execution_count": 106,
   "metadata": {},
   "outputs": [
    {
     "data": {
      "image/png": "[encoded data removed]",
      "text/plain": [
       "<Figure size 1300x500 with 1 Axes>"
      ]
     },
     "metadata": {},
     "output_type": "display_data"
    }
   ],
   "source": [
    "aux = df5.groupby(['price_range'])['aggregate_rating'].mean().reset_index()\n",
    "sns.barplot(data = aux, x = 'price_range', y = 'aggregate_rating')\n",
    "plt.title('AVERAGE RATINGS BY DISH')\n",
    "plt.xlabel('TYPE OF DISH')\n",
    "plt.ylabel('AVARAGE RATING')\n",
    "plt.xticks(rotation = 45)\n",
    "plt.show()"
   ]
  },
  {
   "cell_type": "code",
   "execution_count": null,
   "metadata": {},
   "outputs": [],
   "source": []
  },
  {
   "cell_type": "code",
   "execution_count": null,
   "metadata": {},
   "outputs": [],
   "source": []
  },
  {
   "cell_type": "code",
   "execution_count": null,
   "metadata": {},
   "outputs": [],
   "source": []
  },
  {
   "cell_type": "code",
   "execution_count": null,
   "metadata": {},
   "outputs": [],
   "source": []
  },
  {
   "cell_type": "code",
   "execution_count": null,
   "metadata": {},
   "outputs": [],
   "source": []
  },
  {
   "cell_type": "code",
   "execution_count": null,
   "metadata": {},
   "outputs": [],
   "source": []
  },
  {
   "cell_type": "code",
   "execution_count": null,
   "metadata": {},
   "outputs": [],
   "source": []
  },
  {
   "cell_type": "code",
   "execution_count": null,
   "metadata": {},
   "outputs": [],
   "source": []
  },
  {
   "cell_type": "code",
   "execution_count": 60,
   "metadata": {},
   "outputs": [
    {
     "data": {
      "image/png": "[encoded data removed]",
      "text/plain": [
       "<Figure size 1300x500 with 2 Axes>"
      ]
     },
     "metadata": {},
     "output_type": "display_data"
    }
   ],
   "source": [
    "plt.subplot(1,2,1)\n",
    "aux = df5.groupby(['has_online_delivery'])['restaurant_id'].count().reset_index()\n",
    "sns.barplot(data = aux, x = 'has_online_delivery', y = 'restaurant_id')\n",
    "plt.title('Total number of restaurants that deliver online')\n",
    "plt.xlabel('Online Delivery')\n",
    "plt.ylabel('Total')\n",
    "plt.xticks(rotation=45)\n",
    "\n",
    "plt.subplot(1,2,2)\n",
    "aux1 = df5.groupby(['has_table_booking'])['restaurant_id'].count().reset_index()\n",
    "sns.barplot(data = aux1, x = 'has_table_booking', y = 'restaurant_id')\n",
    "plt.title('Total number of restaurants that Make Tabel Booking')\n",
    "plt.xlabel('Tabel Booking')\n",
    "plt.ylabel('Total')\n",
    "plt.xticks(rotation=45)\n",
    "plt.show()"
   ]
  },
  {
   "cell_type": "code",
   "execution_count": 69,
   "metadata": {},
   "outputs": [
    {
     "data": {
      "text/plain": [
       "array([4.8, 4.5, 4.4, 4.9, 4. , 4.2, 4.3, 3.6, 4.7, 3. , 3.8, 3.7, 3.2,\n",
       "       3.1, 0. , 4.1, 3.3, 4.6, 3.9, 3.4, 3.5, 2.2, 2.9, 2.4, 2.6, 2.8,\n",
       "       2.1, 2.7, 2.5, 1.8, 2. , 2.3, 1.9])"
      ]
     },
     "execution_count": 69,
     "metadata": {},
     "output_type": "execute_result"
    }
   ],
   "source": [
    "df5['aggregate_rating'].unique()"
   ]
  },
  {
   "cell_type": "code",
   "execution_count": null,
   "metadata": {},
   "outputs": [],
   "source": []
  }
 ],
 "metadata": {
  "kernelspec": {
   "display_name": "edavenv",
   "language": "python",
   "name": "python3"
  },
  "language_info": {
   "codemirror_mode": {
    "name": "ipython",
    "version": 3
   },
   "file_extension": ".py",
   "mimetype": "text/x-python",
   "name": "python",
   "nbconvert_exporter": "python",
   "pygments_lexer": "ipython3",
   "version": "3.10.9"
  },
  "orig_nbformat": 4
 },
 "nbformat": 4,
 "nbformat_minor": 2
}
