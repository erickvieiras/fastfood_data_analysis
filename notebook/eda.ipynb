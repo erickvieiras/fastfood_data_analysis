{
 "cells": [
  {
   "attachments": {},
   "cell_type": "markdown",
   "metadata": {},
   "source": [
    "# 1.0 - IMPORTS"
   ]
  },
  {
   "attachments": {},
   "cell_type": "markdown",
   "metadata": {},
   "source": [
    "## 1.1 - LIBRARIES"
   ]
  },
  {
   "cell_type": "code",
   "execution_count": 97,
   "metadata": {},
   "outputs": [],
   "source": [
    "import pandas as pd\n",
    "import numpy as np\n",
    "import inflection\n",
    "import matplotlib.pyplot as plt"
   ]
  },
  {
   "attachments": {},
   "cell_type": "markdown",
   "metadata": {},
   "source": [
    "## 1.2 - LOAD DATA"
   ]
  },
  {
   "cell_type": "code",
   "execution_count": 63,
   "metadata": {},
   "outputs": [],
   "source": [
    "df_raw = pd.read_csv('../dataset/zomato.csv', low_memory=False, encoding='ISO-8859-1')"
   ]
  },
  {
   "attachments": {},
   "cell_type": "markdown",
   "metadata": {},
   "source": [
    "## 1.3 - HELPER FUNCTIONS"
   ]
  },
  {
   "attachments": {},
   "cell_type": "markdown",
   "metadata": {},
   "source": [
    "### 1.3.1 - RENAME COLUMNS FUNCTION"
   ]
  },
  {
   "cell_type": "code",
   "execution_count": 64,
   "metadata": {},
   "outputs": [],
   "source": [
    "def rename_columns(column_name):\n",
    "    words = column_name.split()\n",
    "    return '_'.join(words).lower()"
   ]
  },
  {
   "attachments": {},
   "cell_type": "markdown",
   "metadata": {},
   "source": [
    "### 1.3.2 - NA VOLUMETRY"
   ]
  },
  {
   "cell_type": "code",
   "execution_count": 65,
   "metadata": {},
   "outputs": [],
   "source": [
    "def na_volumetry(df):\n",
    "\n",
    "    df_na = pd.DataFrame()\n",
    "    df_na['attributes'] = df.columns\n",
    "    df_na['quantity'] = ''\n",
    "    df_na['percentual'] = ''\n",
    "\n",
    "    for i in df_na.index:\n",
    "        df_na.quantity[i]    = df[df_na['attributes'][i]].isna().sum()\n",
    "        df_na.percentual[i]  = (df[df_na['attributes'][i]].isna().sum()/df['restaurant_id'].count())*100\n",
    "    \n",
    "    return df_na"
   ]
  },
  {
   "attachments": {},
   "cell_type": "markdown",
   "metadata": {},
   "source": [
    "### 1.3.3 - OUTLIERS VOLUMETRY"
   ]
  },
  {
   "cell_type": "code",
   "execution_count": 101,
   "metadata": {},
   "outputs": [],
   "source": [
    "# Creating the subplots for the dashbord of the boxplot\n",
    "def outliers_volumetry(df):\n",
    "    \n",
    "    df_num = pd.DataFrame()\n",
    "    df_num = df.select_dtypes(exclude = 'object')\n",
    "    outlier = []\n",
    "\n",
    "    for i in df_num.columns:\n",
    "        q1 = np.quantile(df_num[i], 0.25)\n",
    "        q3 = np.quantile(df_num[i], 0.75)\n",
    "        interquartile_distance = q3 - q1\n",
    "        upper_limit = q3 + 1.5 * interquartile_distance\n",
    "        lower_limit = q1 - 1.5 * interquartile_distance\n",
    "        outliers = 0\n",
    "        for j in df_num.index:\n",
    "            if df_num[i][j] > upper_limit:\n",
    "                outliers = outliers + 1\n",
    "            elif df_num[i][j] < lower_limit:\n",
    "                outliers = outliers + 1\n",
    "            else:\n",
    "                pass\n",
    "\n",
    "        outlier.append(outliers)\n",
    "\n",
    "    df_outlier = pd.DataFrame()\n",
    "    df_outlier['attributes']    = df_num.columns\n",
    "    df_outlier['quantity']      =   outlier\n",
    "    df_outlier['percentual']    =   (outlier/df_num['restaurant_id'].count())*100\n",
    "\n",
    "    return df_outlier \n",
    "\n",
    "\n",
    "def boxplot_volumetry(df):\n",
    "\n",
    "    df_numerical = df.select_dtypes(exclude = 'object')\n",
    "    plt.figure(figsize=(15, 12))\n",
    "    plt.subplots_adjust(hspace=0.5)\n",
    "    plt.suptitle(\"Volumetry of Outliers\", fontsize=18)\n",
    "\n",
    "    # loop through the length of pointer and keep track of index\n",
    "    for n, pointer in enumerate(df_numerical.columns):\n",
    "        \n",
    "        # add a new subplot iteratively\n",
    "        ax = plt.subplot(5, 3, n + 1)\n",
    "\n",
    "        # create a boxplot for the pointer on the new subplot axis\n",
    "        df_numerical[pointer].plot(kind='box', ax=ax)\n",
    "\n",
    "        # chart formatting\n",
    "        ax.set_title(pointer.upper())\n",
    "        ax.set_xlabel(\"\")\n",
    "\n",
    "    return plt.show()"
   ]
  },
  {
   "attachments": {},
   "cell_type": "markdown",
   "metadata": {},
   "source": [
    "# 2.0 - DATA CLEANING"
   ]
  },
  {
   "cell_type": "code",
   "execution_count": 66,
   "metadata": {},
   "outputs": [],
   "source": [
    "df2 = df_raw.copy()"
   ]
  },
  {
   "attachments": {},
   "cell_type": "markdown",
   "metadata": {},
   "source": [
    "## 2.1 - DATA DIMENSION"
   ]
  },
  {
   "cell_type": "code",
   "execution_count": 67,
   "metadata": {},
   "outputs": [
    {
     "name": "stdout",
     "output_type": "stream",
     "text": [
      "The Dataset have 21 columns and 9551 rows\n",
      "\n",
      "Amount of unique data for data feature:\n",
      "\n",
      "Restaurant ID           9551\n",
      "Restaurant Name         7446\n",
      "Country Code              15\n",
      "City                     141\n",
      "Address                 8918\n",
      "Locality                1208\n",
      "Locality Verbose        1265\n",
      "Longitude               8120\n",
      "Latitude                8677\n",
      "Cuisines                1825\n",
      "Average Cost for two     140\n",
      "Currency                  12\n",
      "Has Table booking          2\n",
      "Has Online delivery        2\n",
      "Is delivering now          2\n",
      "Switch to order menu       1\n",
      "Price range                4\n",
      "Aggregate rating          33\n",
      "Rating color               6\n",
      "Rating text                6\n",
      "Votes                   1012\n",
      "dtype: int64\n"
     ]
    }
   ],
   "source": [
    "unique_data = df2.apply(lambda x: x.nunique())\n",
    "rows = df2.shape[0]\n",
    "cols = df2.shape[1]\n",
    "print('The Dataset have {} columns and {} rows'.format(cols, rows))\n",
    "print('\\nAmount of unique data for data feature:\\n\\n{}'.format(unique_data))"
   ]
  },
  {
   "attachments": {},
   "cell_type": "markdown",
   "metadata": {},
   "source": [
    "## 2.2 - RENAME COLUMNS"
   ]
  },
  {
   "cell_type": "code",
   "execution_count": 68,
   "metadata": {},
   "outputs": [
    {
     "data": {
      "text/plain": [
       "Index(['restaurant_id', 'restaurant_name', 'country_code', 'city', 'address',\n",
       "       'locality', 'locality_verbose', 'longitude', 'latitude', 'cuisines',\n",
       "       'average_cost_for_two', 'currency', 'has_table_booking',\n",
       "       'has_online_delivery', 'is_delivering_now', 'switch_to_order_menu',\n",
       "       'price_range', 'aggregate_rating', 'rating_color', 'rating_text',\n",
       "       'votes'],\n",
       "      dtype='object')"
      ]
     },
     "execution_count": 68,
     "metadata": {},
     "output_type": "execute_result"
    }
   ],
   "source": [
    "\n",
    "df2.columns = [rename_columns(columns) for columns in df2.columns]\n",
    "df2.columns\n"
   ]
  },
  {
   "attachments": {},
   "cell_type": "markdown",
   "metadata": {},
   "source": [
    "## 2.3 - DATA TYPES"
   ]
  },
  {
   "cell_type": "code",
   "execution_count": 69,
   "metadata": {},
   "outputs": [
    {
     "data": {
      "text/plain": [
       "restaurant_id             int64\n",
       "restaurant_name          object\n",
       "country_code              int64\n",
       "city                     object\n",
       "address                  object\n",
       "locality                 object\n",
       "locality_verbose         object\n",
       "longitude               float64\n",
       "latitude                float64\n",
       "cuisines                 object\n",
       "average_cost_for_two      int64\n",
       "currency                 object\n",
       "has_table_booking        object\n",
       "has_online_delivery      object\n",
       "is_delivering_now        object\n",
       "switch_to_order_menu     object\n",
       "price_range               int64\n",
       "aggregate_rating        float64\n",
       "rating_color             object\n",
       "rating_text              object\n",
       "votes                     int64\n",
       "dtype: object"
      ]
     },
     "execution_count": 69,
     "metadata": {},
     "output_type": "execute_result"
    }
   ],
   "source": [
    "df2.dtypes"
   ]
  },
  {
   "attachments": {},
   "cell_type": "markdown",
   "metadata": {},
   "source": [
    "## 2.4 - NA VOLUMETRY"
   ]
  },
  {
   "cell_type": "code",
   "execution_count": 70,
   "metadata": {},
   "outputs": [
    {
     "data": {
      "text/plain": [
       "restaurant_id           0\n",
       "restaurant_name         0\n",
       "country_code            0\n",
       "city                    0\n",
       "address                 0\n",
       "locality                0\n",
       "locality_verbose        0\n",
       "longitude               0\n",
       "latitude                0\n",
       "cuisines                9\n",
       "average_cost_for_two    0\n",
       "currency                0\n",
       "has_table_booking       0\n",
       "has_online_delivery     0\n",
       "is_delivering_now       0\n",
       "switch_to_order_menu    0\n",
       "price_range             0\n",
       "aggregate_rating        0\n",
       "rating_color            0\n",
       "rating_text             0\n",
       "votes                   0\n",
       "dtype: int64"
      ]
     },
     "execution_count": 70,
     "metadata": {},
     "output_type": "execute_result"
    }
   ],
   "source": [
    "df2.isna().sum()"
   ]
  },
  {
   "cell_type": "code",
   "execution_count": 71,
   "metadata": {},
   "outputs": [
    {
     "data": {
      "text/html": [
       "<div>\n",
       "<style scoped>\n",
       "    .dataframe tbody tr th:only-of-type {\n",
       "        vertical-align: middle;\n",
       "    }\n",
       "\n",
       "    .dataframe tbody tr th {\n",
       "        vertical-align: top;\n",
       "    }\n",
       "\n",
       "    .dataframe thead th {\n",
       "        text-align: right;\n",
       "    }\n",
       "</style>\n",
       "<table border=\"1\" class=\"dataframe\">\n",
       "  <thead>\n",
       "    <tr style=\"text-align: right;\">\n",
       "      <th></th>\n",
       "      <th>attributes</th>\n",
       "      <th>quantity</th>\n",
       "      <th>percentual</th>\n",
       "    </tr>\n",
       "  </thead>\n",
       "  <tbody>\n",
       "    <tr>\n",
       "      <th>0</th>\n",
       "      <td>restaurant_id</td>\n",
       "      <td>0</td>\n",
       "      <td>0.0</td>\n",
       "    </tr>\n",
       "    <tr>\n",
       "      <th>1</th>\n",
       "      <td>restaurant_name</td>\n",
       "      <td>0</td>\n",
       "      <td>0.0</td>\n",
       "    </tr>\n",
       "    <tr>\n",
       "      <th>2</th>\n",
       "      <td>country_code</td>\n",
       "      <td>0</td>\n",
       "      <td>0.0</td>\n",
       "    </tr>\n",
       "    <tr>\n",
       "      <th>3</th>\n",
       "      <td>city</td>\n",
       "      <td>0</td>\n",
       "      <td>0.0</td>\n",
       "    </tr>\n",
       "    <tr>\n",
       "      <th>4</th>\n",
       "      <td>address</td>\n",
       "      <td>0</td>\n",
       "      <td>0.0</td>\n",
       "    </tr>\n",
       "    <tr>\n",
       "      <th>5</th>\n",
       "      <td>locality</td>\n",
       "      <td>0</td>\n",
       "      <td>0.0</td>\n",
       "    </tr>\n",
       "    <tr>\n",
       "      <th>6</th>\n",
       "      <td>locality_verbose</td>\n",
       "      <td>0</td>\n",
       "      <td>0.0</td>\n",
       "    </tr>\n",
       "    <tr>\n",
       "      <th>7</th>\n",
       "      <td>longitude</td>\n",
       "      <td>0</td>\n",
       "      <td>0.0</td>\n",
       "    </tr>\n",
       "    <tr>\n",
       "      <th>8</th>\n",
       "      <td>latitude</td>\n",
       "      <td>0</td>\n",
       "      <td>0.0</td>\n",
       "    </tr>\n",
       "    <tr>\n",
       "      <th>9</th>\n",
       "      <td>cuisines</td>\n",
       "      <td>9</td>\n",
       "      <td>0.094231</td>\n",
       "    </tr>\n",
       "    <tr>\n",
       "      <th>10</th>\n",
       "      <td>average_cost_for_two</td>\n",
       "      <td>0</td>\n",
       "      <td>0.0</td>\n",
       "    </tr>\n",
       "    <tr>\n",
       "      <th>11</th>\n",
       "      <td>currency</td>\n",
       "      <td>0</td>\n",
       "      <td>0.0</td>\n",
       "    </tr>\n",
       "    <tr>\n",
       "      <th>12</th>\n",
       "      <td>has_table_booking</td>\n",
       "      <td>0</td>\n",
       "      <td>0.0</td>\n",
       "    </tr>\n",
       "    <tr>\n",
       "      <th>13</th>\n",
       "      <td>has_online_delivery</td>\n",
       "      <td>0</td>\n",
       "      <td>0.0</td>\n",
       "    </tr>\n",
       "    <tr>\n",
       "      <th>14</th>\n",
       "      <td>is_delivering_now</td>\n",
       "      <td>0</td>\n",
       "      <td>0.0</td>\n",
       "    </tr>\n",
       "    <tr>\n",
       "      <th>15</th>\n",
       "      <td>switch_to_order_menu</td>\n",
       "      <td>0</td>\n",
       "      <td>0.0</td>\n",
       "    </tr>\n",
       "    <tr>\n",
       "      <th>16</th>\n",
       "      <td>price_range</td>\n",
       "      <td>0</td>\n",
       "      <td>0.0</td>\n",
       "    </tr>\n",
       "    <tr>\n",
       "      <th>17</th>\n",
       "      <td>aggregate_rating</td>\n",
       "      <td>0</td>\n",
       "      <td>0.0</td>\n",
       "    </tr>\n",
       "    <tr>\n",
       "      <th>18</th>\n",
       "      <td>rating_color</td>\n",
       "      <td>0</td>\n",
       "      <td>0.0</td>\n",
       "    </tr>\n",
       "    <tr>\n",
       "      <th>19</th>\n",
       "      <td>rating_text</td>\n",
       "      <td>0</td>\n",
       "      <td>0.0</td>\n",
       "    </tr>\n",
       "    <tr>\n",
       "      <th>20</th>\n",
       "      <td>votes</td>\n",
       "      <td>0</td>\n",
       "      <td>0.0</td>\n",
       "    </tr>\n",
       "  </tbody>\n",
       "</table>\n",
       "</div>"
      ],
      "text/plain": [
       "              attributes quantity percentual\n",
       "0          restaurant_id        0        0.0\n",
       "1        restaurant_name        0        0.0\n",
       "2           country_code        0        0.0\n",
       "3                   city        0        0.0\n",
       "4                address        0        0.0\n",
       "5               locality        0        0.0\n",
       "6       locality_verbose        0        0.0\n",
       "7              longitude        0        0.0\n",
       "8               latitude        0        0.0\n",
       "9               cuisines        9   0.094231\n",
       "10  average_cost_for_two        0        0.0\n",
       "11              currency        0        0.0\n",
       "12     has_table_booking        0        0.0\n",
       "13   has_online_delivery        0        0.0\n",
       "14     is_delivering_now        0        0.0\n",
       "15  switch_to_order_menu        0        0.0\n",
       "16           price_range        0        0.0\n",
       "17      aggregate_rating        0        0.0\n",
       "18          rating_color        0        0.0\n",
       "19           rating_text        0        0.0\n",
       "20                 votes        0        0.0"
      ]
     },
     "execution_count": 71,
     "metadata": {},
     "output_type": "execute_result"
    }
   ],
   "source": [
    "na_volumetry(df2)"
   ]
  },
  {
   "cell_type": "code",
   "execution_count": 72,
   "metadata": {},
   "outputs": [],
   "source": [
    "df2 = df2.dropna(subset=['cuisines'])"
   ]
  },
  {
   "attachments": {},
   "cell_type": "markdown",
   "metadata": {},
   "source": [
    "## 2.5 - NULL VOLUMETRY"
   ]
  },
  {
   "cell_type": "code",
   "execution_count": 73,
   "metadata": {},
   "outputs": [
    {
     "data": {
      "text/plain": [
       "restaurant_id           0\n",
       "restaurant_name         0\n",
       "country_code            0\n",
       "city                    0\n",
       "address                 0\n",
       "locality                0\n",
       "locality_verbose        0\n",
       "longitude               0\n",
       "latitude                0\n",
       "cuisines                0\n",
       "average_cost_for_two    0\n",
       "currency                0\n",
       "has_table_booking       0\n",
       "has_online_delivery     0\n",
       "is_delivering_now       0\n",
       "switch_to_order_menu    0\n",
       "price_range             0\n",
       "aggregate_rating        0\n",
       "rating_color            0\n",
       "rating_text             0\n",
       "votes                   0\n",
       "dtype: int64"
      ]
     },
     "execution_count": 73,
     "metadata": {},
     "output_type": "execute_result"
    }
   ],
   "source": [
    "df2.isnull().sum()"
   ]
  },
  {
   "attachments": {},
   "cell_type": "markdown",
   "metadata": {},
   "source": [
    "## 2.6 - OUTLIERS VOLUMETRY"
   ]
  },
  {
   "cell_type": "code",
   "execution_count": 83,
   "metadata": {},
   "outputs": [
    {
     "data": {
      "text/html": [
       "<div>\n",
       "<style scoped>\n",
       "    .dataframe tbody tr th:only-of-type {\n",
       "        vertical-align: middle;\n",
       "    }\n",
       "\n",
       "    .dataframe tbody tr th {\n",
       "        vertical-align: top;\n",
       "    }\n",
       "\n",
       "    .dataframe thead th {\n",
       "        text-align: right;\n",
       "    }\n",
       "</style>\n",
       "<table border=\"1\" class=\"dataframe\">\n",
       "  <thead>\n",
       "    <tr style=\"text-align: right;\">\n",
       "      <th></th>\n",
       "      <th>attributes</th>\n",
       "      <th>quantity</th>\n",
       "      <th>percentual</th>\n",
       "    </tr>\n",
       "  </thead>\n",
       "  <tbody>\n",
       "    <tr>\n",
       "      <th>0</th>\n",
       "      <td>restaurant_id</td>\n",
       "      <td>0</td>\n",
       "      <td>0.000000</td>\n",
       "    </tr>\n",
       "    <tr>\n",
       "      <th>1</th>\n",
       "      <td>country_code</td>\n",
       "      <td>890</td>\n",
       "      <td>9.327185</td>\n",
       "    </tr>\n",
       "    <tr>\n",
       "      <th>2</th>\n",
       "      <td>longitude</td>\n",
       "      <td>1944</td>\n",
       "      <td>20.373087</td>\n",
       "    </tr>\n",
       "    <tr>\n",
       "      <th>3</th>\n",
       "      <td>latitude</td>\n",
       "      <td>1974</td>\n",
       "      <td>20.687487</td>\n",
       "    </tr>\n",
       "    <tr>\n",
       "      <th>4</th>\n",
       "      <td>average_cost_for_two</td>\n",
       "      <td>853</td>\n",
       "      <td>8.939426</td>\n",
       "    </tr>\n",
       "    <tr>\n",
       "      <th>5</th>\n",
       "      <td>price_range</td>\n",
       "      <td>586</td>\n",
       "      <td>6.141270</td>\n",
       "    </tr>\n",
       "    <tr>\n",
       "      <th>6</th>\n",
       "      <td>aggregate_rating</td>\n",
       "      <td>2148</td>\n",
       "      <td>22.511004</td>\n",
       "    </tr>\n",
       "    <tr>\n",
       "      <th>7</th>\n",
       "      <td>votes</td>\n",
       "      <td>1131</td>\n",
       "      <td>11.852861</td>\n",
       "    </tr>\n",
       "  </tbody>\n",
       "</table>\n",
       "</div>"
      ],
      "text/plain": [
       "             attributes  quantity  percentual\n",
       "0         restaurant_id         0    0.000000\n",
       "1          country_code       890    9.327185\n",
       "2             longitude      1944   20.373087\n",
       "3              latitude      1974   20.687487\n",
       "4  average_cost_for_two       853    8.939426\n",
       "5           price_range       586    6.141270\n",
       "6      aggregate_rating      2148   22.511004\n",
       "7                 votes      1131   11.852861"
      ]
     },
     "execution_count": 83,
     "metadata": {},
     "output_type": "execute_result"
    }
   ],
   "source": [
    "outliers_volumetry(df2)"
   ]
  },
  {
   "cell_type": "code",
   "execution_count": 102,
   "metadata": {},
   "outputs": [
    {
     "data": {
      "image/png": "[encoded data removed]",
      "text/plain": [
       "<Figure size 1500x1200 with 8 Axes>"
      ]
     },
     "metadata": {},
     "output_type": "display_data"
    }
   ],
   "source": [
    "boxplot_volumetry(df2)"
   ]
  },
  {
   "attachments": {},
   "cell_type": "markdown",
   "metadata": {},
   "source": [
    "# 3.0 - DESCRIPTIVE STATISTICS"
   ]
  },
  {
   "cell_type": "code",
   "execution_count": 105,
   "metadata": {},
   "outputs": [],
   "source": [
    "df3 = df2.copy()"
   ]
  },
  {
   "cell_type": "code",
   "execution_count": 106,
   "metadata": {},
   "outputs": [
    {
     "data": {
      "text/html": [
       "<div>\n",
       "<style scoped>\n",
       "    .dataframe tbody tr th:only-of-type {\n",
       "        vertical-align: middle;\n",
       "    }\n",
       "\n",
       "    .dataframe tbody tr th {\n",
       "        vertical-align: top;\n",
       "    }\n",
       "\n",
       "    .dataframe thead th {\n",
       "        text-align: right;\n",
       "    }\n",
       "</style>\n",
       "<table border=\"1\" class=\"dataframe\">\n",
       "  <thead>\n",
       "    <tr style=\"text-align: right;\">\n",
       "      <th></th>\n",
       "      <th>attribuites</th>\n",
       "      <th>mean</th>\n",
       "      <th>median</th>\n",
       "      <th>standart deviation</th>\n",
       "      <th>min</th>\n",
       "      <th>max</th>\n",
       "      <th>range</th>\n",
       "      <th>skew</th>\n",
       "      <th>kurtosis</th>\n",
       "    </tr>\n",
       "  </thead>\n",
       "  <tbody>\n",
       "    <tr>\n",
       "      <th>0</th>\n",
       "      <td>restaurant_id</td>\n",
       "      <td>9.043301e+06</td>\n",
       "      <td>6.002726e+06</td>\n",
       "      <td>8.791507e+06</td>\n",
       "      <td>53.000000</td>\n",
       "      <td>1.850065e+07</td>\n",
       "      <td>-1.850060e+07</td>\n",
       "      <td>0.063496</td>\n",
       "      <td>-1.950750</td>\n",
       "    </tr>\n",
       "    <tr>\n",
       "      <th>1</th>\n",
       "      <td>country_code</td>\n",
       "      <td>1.817921e+01</td>\n",
       "      <td>1.000000e+00</td>\n",
       "      <td>5.644864e+01</td>\n",
       "      <td>1.000000</td>\n",
       "      <td>2.160000e+02</td>\n",
       "      <td>-2.150000e+02</td>\n",
       "      <td>3.064922</td>\n",
       "      <td>7.523150</td>\n",
       "    </tr>\n",
       "    <tr>\n",
       "      <th>2</th>\n",
       "      <td>longitude</td>\n",
       "      <td>6.427500e+01</td>\n",
       "      <td>7.719203e+01</td>\n",
       "      <td>4.119544e+01</td>\n",
       "      <td>-157.948486</td>\n",
       "      <td>1.748321e+02</td>\n",
       "      <td>-3.327806e+02</td>\n",
       "      <td>-2.819828</td>\n",
       "      <td>8.330206</td>\n",
       "    </tr>\n",
       "    <tr>\n",
       "      <th>3</th>\n",
       "      <td>latitude</td>\n",
       "      <td>2.584853e+01</td>\n",
       "      <td>2.857044e+01</td>\n",
       "      <td>1.100952e+01</td>\n",
       "      <td>-41.330428</td>\n",
       "      <td>5.597698e+01</td>\n",
       "      <td>-9.730741e+01</td>\n",
       "      <td>-3.081780</td>\n",
       "      <td>12.525761</td>\n",
       "    </tr>\n",
       "    <tr>\n",
       "      <th>4</th>\n",
       "      <td>average_cost_for_two</td>\n",
       "      <td>1.200326e+03</td>\n",
       "      <td>4.000000e+02</td>\n",
       "      <td>1.612790e+04</td>\n",
       "      <td>0.000000</td>\n",
       "      <td>8.000000e+05</td>\n",
       "      <td>-8.000000e+05</td>\n",
       "      <td>35.461264</td>\n",
       "      <td>1494.371209</td>\n",
       "    </tr>\n",
       "    <tr>\n",
       "      <th>5</th>\n",
       "      <td>price_range</td>\n",
       "      <td>1.804968e+00</td>\n",
       "      <td>2.000000e+00</td>\n",
       "      <td>9.055156e-01</td>\n",
       "      <td>1.000000</td>\n",
       "      <td>4.000000e+00</td>\n",
       "      <td>-3.000000e+00</td>\n",
       "      <td>0.889879</td>\n",
       "      <td>-0.141135</td>\n",
       "    </tr>\n",
       "    <tr>\n",
       "      <th>6</th>\n",
       "      <td>aggregate_rating</td>\n",
       "      <td>2.665238e+00</td>\n",
       "      <td>3.200000e+00</td>\n",
       "      <td>1.516508e+00</td>\n",
       "      <td>0.000000</td>\n",
       "      <td>4.900000e+00</td>\n",
       "      <td>-4.900000e+00</td>\n",
       "      <td>-0.953052</td>\n",
       "      <td>-0.584832</td>\n",
       "    </tr>\n",
       "    <tr>\n",
       "      <th>7</th>\n",
       "      <td>votes</td>\n",
       "      <td>1.567721e+02</td>\n",
       "      <td>3.100000e+01</td>\n",
       "      <td>4.301808e+02</td>\n",
       "      <td>0.000000</td>\n",
       "      <td>1.093400e+04</td>\n",
       "      <td>-1.093400e+04</td>\n",
       "      <td>8.813270</td>\n",
       "      <td>128.316022</td>\n",
       "    </tr>\n",
       "  </tbody>\n",
       "</table>\n",
       "</div>"
      ],
      "text/plain": [
       "            attribuites          mean        median  standart deviation  \\\n",
       "0         restaurant_id  9.043301e+06  6.002726e+06        8.791507e+06   \n",
       "1          country_code  1.817921e+01  1.000000e+00        5.644864e+01   \n",
       "2             longitude  6.427500e+01  7.719203e+01        4.119544e+01   \n",
       "3              latitude  2.584853e+01  2.857044e+01        1.100952e+01   \n",
       "4  average_cost_for_two  1.200326e+03  4.000000e+02        1.612790e+04   \n",
       "5           price_range  1.804968e+00  2.000000e+00        9.055156e-01   \n",
       "6      aggregate_rating  2.665238e+00  3.200000e+00        1.516508e+00   \n",
       "7                 votes  1.567721e+02  3.100000e+01        4.301808e+02   \n",
       "\n",
       "          min           max         range       skew     kurtosis  \n",
       "0   53.000000  1.850065e+07 -1.850060e+07   0.063496    -1.950750  \n",
       "1    1.000000  2.160000e+02 -2.150000e+02   3.064922     7.523150  \n",
       "2 -157.948486  1.748321e+02 -3.327806e+02  -2.819828     8.330206  \n",
       "3  -41.330428  5.597698e+01 -9.730741e+01  -3.081780    12.525761  \n",
       "4    0.000000  8.000000e+05 -8.000000e+05  35.461264  1494.371209  \n",
       "5    1.000000  4.000000e+00 -3.000000e+00   0.889879    -0.141135  \n",
       "6    0.000000  4.900000e+00 -4.900000e+00  -0.953052    -0.584832  \n",
       "7    0.000000  1.093400e+04 -1.093400e+04   8.813270   128.316022  "
      ]
     },
     "execution_count": 106,
     "metadata": {},
     "output_type": "execute_result"
    }
   ],
   "source": [
    "df2_num = pd.DataFrame()\n",
    "df2_cat = pd.DataFrame()\n",
    "\n",
    "df2_num = df2.select_dtypes(exclude = 'object')\n",
    "df2_cat = df2.select_dtypes(include = 'object')\n",
    "\n",
    "# Tendence central:\n",
    "# - Mean\n",
    "# - Median\n",
    "\n",
    "central_tendence1 = pd.DataFrame(df2_num.apply(lambda x: np.mean(x))).T\n",
    "central_tendence2 = pd.DataFrame(df2_num.apply(lambda x: np.median(x))).T\n",
    "\n",
    "# Dispersion:\n",
    "# - Max\n",
    "# - Min\n",
    "# - Range\n",
    "# - Standart Deviation\n",
    "# - Skew\n",
    "# - Kurtosis\n",
    "\n",
    "dispersion1 = pd.DataFrame(df2_num.apply(lambda x: np.std(x))).T\n",
    "dispersion2 = pd.DataFrame(df2_num.apply(min)).T\n",
    "dispersion3 = pd.DataFrame(df2_num.apply(max)).T\n",
    "dispersion4 = pd.DataFrame(df2_num.apply(lambda x: x.min() - x.max())).T\n",
    "dispersion5 = pd.DataFrame(df2_num.apply(lambda x: x.skew())).T\n",
    "dispersion6 = pd.DataFrame(df2_num.apply(lambda x: x.kurtosis())).T\n",
    "\n",
    "# Concatenating the dataframes\n",
    "\n",
    "metrics = pd.concat([central_tendence1, central_tendence2, dispersion1, dispersion2, dispersion3, dispersion4, dispersion5, dispersion6]).T.reset_index()\n",
    "metrics.columns = ['attribuites', 'mean', 'median', 'standart deviation', 'min', 'max', 'range', 'skew', 'kurtosis']\n",
    "metrics"
   ]
  },
  {
   "attachments": {},
   "cell_type": "markdown",
   "metadata": {},
   "source": [
    "# 4.0 - FEATURE ENGINEERING"
   ]
  },
  {
   "cell_type": "code",
   "execution_count": 107,
   "metadata": {},
   "outputs": [],
   "source": [
    "df4 = df3.copy()"
   ]
  },
  {
   "cell_type": "code",
   "execution_count": null,
   "metadata": {},
   "outputs": [],
   "source": []
  }
 ],
 "metadata": {
  "kernelspec": {
   "display_name": "edavenv",
   "language": "python",
   "name": "python3"
  },
  "language_info": {
   "codemirror_mode": {
    "name": "ipython",
    "version": 3
   },
   "file_extension": ".py",
   "mimetype": "text/x-python",
   "name": "python",
   "nbconvert_exporter": "python",
   "pygments_lexer": "ipython3",
   "version": "3.10.9"
  },
  "orig_nbformat": 4
 },
 "nbformat": 4,
 "nbformat_minor": 2
}
